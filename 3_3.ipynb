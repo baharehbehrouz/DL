{
  "nbformat": 4,
  "nbformat_minor": 0,
  "metadata": {
    "colab": {
      "provenance": [],
      "authorship_tag": "ABX9TyObW3+LVE2OrnfctTwVWAIi",
      "include_colab_link": true
    },
    "kernelspec": {
      "name": "python3",
      "display_name": "Python 3"
    },
    "language_info": {
      "name": "python"
    }
  },
  "cells": [
    {
      "cell_type": "markdown",
      "metadata": {
        "id": "view-in-github",
        "colab_type": "text"
      },
      "source": [
        "<a href=\"https://colab.research.google.com/github/baharehbehrouz/DL/blob/class/3_3.ipynb\" target=\"_parent\"><img src=\"https://colab.research.google.com/assets/colab-badge.svg\" alt=\"Open In Colab\"/></a>"
      ]
    },
    {
      "cell_type": "code",
      "execution_count": 4,
      "metadata": {
        "colab": {
          "base_uri": "https://localhost:8080/",
          "height": 1000
        },
        "id": "cFQIWZrczTv-",
        "outputId": "6aa4b6d9-348d-4275-f072-cda67728ccf5"
      },
      "outputs": [
        {
          "output_type": "stream",
          "name": "stdout",
          "text": [
            "--2024-11-28 12:55:27--  https://raw.githubusercontent.com/Alireza-Akhavan/SRU-deeplearning-workshop/master/dataset.py\n",
            "Resolving raw.githubusercontent.com (raw.githubusercontent.com)... 185.199.108.133, 185.199.109.133, 185.199.110.133, ...\n",
            "Connecting to raw.githubusercontent.com (raw.githubusercontent.com)|185.199.108.133|:443... connected.\n",
            "HTTP request sent, awaiting response... 200 OK\n",
            "Length: 917 [text/plain]\n",
            "Saving to: ‘dataset.py.3’\n",
            "\n",
            "\rdataset.py.3          0%[                    ]       0  --.-KB/s               \rdataset.py.3        100%[===================>]     917  --.-KB/s    in 0s      \n",
            "\n",
            "2024-11-28 12:55:27 (3.87 MB/s) - ‘dataset.py.3’ saved [917/917]\n",
            "\n",
            "mkdir: cannot create directory ‘dataset’: File exists\n",
            "--2024-11-28 12:55:27--  https://github.com/Alireza-Akhavan/SRU-deeplearning-workshop/raw/master/dataset/Data_hoda_full.mat\n",
            "Resolving github.com (github.com)... 140.82.121.4\n",
            "Connecting to github.com (github.com)|140.82.121.4|:443... connected.\n",
            "HTTP request sent, awaiting response... 301 Moved Permanently\n",
            "Location: https://github.com/Alireza-Akhavan/deeplearning-tensorflow2-notebooks/raw/master/dataset/Data_hoda_full.mat [following]\n",
            "--2024-11-28 12:55:27--  https://github.com/Alireza-Akhavan/deeplearning-tensorflow2-notebooks/raw/master/dataset/Data_hoda_full.mat\n",
            "Reusing existing connection to github.com:443.\n",
            "HTTP request sent, awaiting response... 302 Found\n",
            "Location: https://raw.githubusercontent.com/Alireza-Akhavan/deeplearning-tensorflow2-notebooks/master/dataset/Data_hoda_full.mat [following]\n",
            "--2024-11-28 12:55:27--  https://raw.githubusercontent.com/Alireza-Akhavan/deeplearning-tensorflow2-notebooks/master/dataset/Data_hoda_full.mat\n",
            "Resolving raw.githubusercontent.com (raw.githubusercontent.com)... 185.199.108.133, 185.199.110.133, 185.199.109.133, ...\n",
            "Connecting to raw.githubusercontent.com (raw.githubusercontent.com)|185.199.108.133|:443... connected.\n",
            "HTTP request sent, awaiting response... 200 OK\n",
            "Length: 3989009 (3.8M) [application/octet-stream]\n",
            "Saving to: ‘dataset/Data_hoda_full.mat.3’\n",
            "\n",
            "Data_hoda_full.mat. 100%[===================>]   3.80M  --.-KB/s    in 0.03s   \n",
            "\n",
            "2024-11-28 12:55:27 (117 MB/s) - ‘dataset/Data_hoda_full.mat.3’ saved [3989009/3989009]\n",
            "\n",
            "Epoch 1/200\n",
            "\u001b[1m11/11\u001b[0m \u001b[32m━━━━━━━━━━━━━━━━━━━━\u001b[0m\u001b[37m\u001b[0m \u001b[1m8s\u001b[0m 362ms/step - loss: 2.1506 - sparse_categorical_accuracy: 0.4003 - val_loss: 2.0040 - val_sparse_categorical_accuracy: 0.7071\n",
            "Epoch 2/200\n",
            "\u001b[1m11/11\u001b[0m \u001b[32m━━━━━━━━━━━━━━━━━━━━\u001b[0m\u001b[37m\u001b[0m \u001b[1m0s\u001b[0m 281ms/step - loss: 0.5878 - sparse_categorical_accuracy: 0.8076\n",
            "Stopping training: Accuracy reached 75.0%!\n",
            "\u001b[1m11/11\u001b[0m \u001b[32m━━━━━━━━━━━━━━━━━━━━\u001b[0m\u001b[37m\u001b[0m \u001b[1m4s\u001b[0m 320ms/step - loss: 0.5828 - sparse_categorical_accuracy: 0.8095 - val_loss: 1.7794 - val_sparse_categorical_accuracy: 0.7514\n"
          ]
        },
        {
          "output_type": "display_data",
          "data": {
            "text/plain": [
              "<Figure size 640x480 with 1 Axes>"
            ],
            "image/png": "[encoded data removed]"
          },
          "metadata": {}
        }
      ],
      "source": [
        "# 1. Download the required dataset and helper script\n",
        "!wget https://raw.githubusercontent.com/Alireza-Akhavan/SRU-deeplearning-workshop/master/dataset.py\n",
        "!mkdir dataset\n",
        "!wget https://github.com/Alireza-Akhavan/SRU-deeplearning-workshop/raw/master/dataset/Data_hoda_full.mat -P dataset\n",
        "\n",
        "# 2. Import libraries and modules\n",
        "from tensorflow import keras\n",
        "from keras import layers\n",
        "from keras.models import Sequential\n",
        "from keras.layers import Dense, Dropout, BatchNormalization\n",
        "from keras.callbacks import Callback, TensorBoard\n",
        "import numpy as np\n",
        "from dataset import load_hoda\n",
        "import datetime\n",
        "import matplotlib.pyplot as plt\n",
        "\n",
        "# 3. Load pre-shuffled HODA data into train and test sets\n",
        "X_train, y_train, X_test, y_test = load_hoda(\n",
        "    training_sample_size=3500,\n",
        "    test_sample_size=400,\n",
        "    size=28\n",
        ")\n",
        "\n",
        "# 4. Preprocess input data\n",
        "X_train = X_train.astype('float32')\n",
        "X_test = X_test.astype('float32')\n",
        "X_train = (X_train - 127.5) / 127.5\n",
        "X_test = (X_test - 127.5) / 127.5\n",
        "\n",
        "# Reshape to (n x 28 x 28 x 1)\n",
        "X_train = X_train.reshape(-1, 28, 28, 1)\n",
        "X_test = X_test.reshape(-1, 28, 28, 1)\n",
        "\n",
        "# 5. Define model architecture\n",
        "model = Sequential()\n",
        "model.add(layers.Conv2D(32, (3, 3), activation='relu', input_shape=(28, 28, 1)))\n",
        "model.add(BatchNormalization())\n",
        "model.add(layers.MaxPooling2D((2, 2)))\n",
        "model.add(layers.Conv2D(64, (3, 3), activation='relu'))\n",
        "model.add(BatchNormalization())\n",
        "model.add(layers.MaxPooling2D((2, 2)))\n",
        "model.add(layers.Conv2D(64, (3, 3), activation='relu'))\n",
        "model.add(BatchNormalization())\n",
        "model.add(layers.Flatten())\n",
        "model.add(layers.Dense(64, activation='relu'))\n",
        "model.add(BatchNormalization())\n",
        "model.add(Dropout(0.5))\n",
        "model.add(layers.Dense(10, activation='softmax'))\n",
        "\n",
        "# 6. Compile model\n",
        "model.compile(\n",
        "    loss='sparse_categorical_crossentropy',\n",
        "    optimizer='adam',\n",
        "    metrics=['sparse_categorical_accuracy']\n",
        ")\n",
        "\n",
        "# 7. Define a custom callback to stop training when accuracy reaches 75%\n",
        "class StopAtAccuracy(Callback):\n",
        "    def __init__(self, target_accuracy):\n",
        "        super(StopAtAccuracy, self).__init__()\n",
        "        self.target_accuracy = target_accuracy\n",
        "\n",
        "    def on_epoch_end(self, epoch, logs=None):\n",
        "        # Check training and validation accuracy\n",
        "        train_accuracy = logs.get('sparse_categorical_accuracy')\n",
        "        val_accuracy = logs.get('val_sparse_categorical_accuracy')\n",
        "\n",
        "        if train_accuracy >= self.target_accuracy or val_accuracy >= self.target_accuracy:\n",
        "            print(f\"\\nStopping training: Accuracy reached {self.target_accuracy*100}%!\")\n",
        "            self.model.stop_training = True\n",
        "\n",
        "# 8. Create an instance of the custom callback with 75% accuracy threshold\n",
        "stop_callback = StopAtAccuracy(target_accuracy=0.75)\n",
        "\n",
        "# 9. Define TensorBoard callback\n",
        "log_dir = \"logs/fit/\" + datetime.datetime.now().strftime(\"%Y%m%d-%H%M%S\")\n",
        "tensorboard_callback = TensorBoard(log_dir=log_dir, histogram_freq=1)\n",
        "\n",
        "# 10. Fit model on training data with callbacks\n",
        "history = model.fit(\n",
        "    X_train, y_train,\n",
        "    epochs=200,\n",
        "    batch_size=256,\n",
        "    validation_split=0.2,\n",
        "    callbacks=[tensorboard_callback, stop_callback]\n",
        ")\n",
        "\n",
        "# 11. Plot training and validation accuracy\n",
        "plt.plot(history.history['sparse_categorical_accuracy'], 'bo', label='Training acc')\n",
        "plt.plot(history.history['val_sparse_categorical_accuracy'], 'b', label='Validation acc')\n",
        "plt.title('Training and validation accuracy')\n",
        "plt.legend()\n",
        "plt.show()\n"
      ]
    },
    {
      "cell_type": "code",
      "source": [],
      "metadata": {
        "id": "KVQm-NVwzYFs"
      },
      "execution_count": null,
      "outputs": []
    }
  ]
}